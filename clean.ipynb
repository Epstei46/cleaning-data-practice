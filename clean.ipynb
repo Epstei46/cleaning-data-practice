{
 "cells": [
  {
   "cell_type": "code",
   "execution_count": null,
   "metadata": {},
   "outputs": [],
   "source": [
    "# Testing Area. Put code to test towards the bottom, then \"Execute Cell\". Output will appear below.\n",
    "\n",
    "import pandas as pd\n",
    "from numpy import nan\n",
    "\n",
    "data = pd.read_csv('artwork_sample.csv')\n",
    "fulldf = pd.read_csv('artwork_data.csv', low_memory=False)\n",
    "\n",
    "# data.shape\n",
    "# data.columns\n",
    "# data.dtypes\n",
    "# data.head"
   ]
  }
 ],
 "metadata": {
  "interpreter": {
   "hash": "2be5faf79681da6f2a61fdfdd5405d65d042280f7fba6178067603e3a2925119"
  },
  "kernelspec": {
   "display_name": "Python 3.10.0 64-bit",
   "language": "python",
   "name": "python3"
  },
  "language_info": {
   "codemirror_mode": {
    "name": "ipython",
    "version": 3
   },
   "file_extension": ".py",
   "mimetype": "text/x-python",
   "name": "python",
   "nbconvert_exporter": "python",
   "pygments_lexer": "ipython3",
   "version": "3.10.0"
  },
  "orig_nbformat": 4
 },
 "nbformat": 4,
 "nbformat_minor": 2
}
